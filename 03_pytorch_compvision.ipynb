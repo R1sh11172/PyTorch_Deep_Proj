{
  "nbformat": 4,
  "nbformat_minor": 0,
  "metadata": {
    "colab": {
      "provenance": [],
      "authorship_tag": "ABX9TyNDKBKa7Wo9AbgOu2aiX1gm",
      "include_colab_link": true
    },
    "kernelspec": {
      "name": "python3",
      "display_name": "Python 3"
    },
    "language_info": {
      "name": "python"
    }
  },
  "cells": [
    {
      "cell_type": "markdown",
      "metadata": {
        "id": "view-in-github",
        "colab_type": "text"
      },
      "source": [
        "<a href=\"https://colab.research.google.com/github/R1sh11172/PyTorch_Deep_Proj/blob/main/03_pytorch_compvision.ipynb\" target=\"_parent\"><img src=\"https://colab.research.google.com/assets/colab-badge.svg\" alt=\"Open In Colab\"/></a>"
      ]
    },
    {
      "cell_type": "markdown",
      "source": [
        "# PyTorch Computer Vision"
      ],
      "metadata": {
        "id": "hSNu8T4sG8t8"
      }
    },
    {
      "cell_type": "markdown",
      "source": [
        "## 0. Computer vision libraries in PyTorch\n",
        "\n",
        "1. torchvision - base domain library for pytorch comp vis\n",
        "2. torchvision.datasets - get datasets/loading functions\n",
        "3. torchvision.models - pretrained comp vis models\n",
        "4. torchvision.transforms - functions for manipulating vision data (images) to be suitable with ML model'\n",
        "5. torch.utils.data.Dataset - Base dataset class for PyTorch\n",
        "6. torch.utils.data.DataLoader - Creates python iterable over a dataset"
      ],
      "metadata": {
        "id": "olI2u75bHE1k"
      }
    },
    {
      "cell_type": "code",
      "source": [
        "# Import PyTorch\n",
        "import torch\n",
        "from torch import nn\n",
        "\n",
        "# Import torchvision\n",
        "import torchvision\n",
        "from torchvision import datasets\n",
        "from torchvision import transforms\n",
        "from torchvision.transforms import ToTensor\n",
        "\n",
        "# Import matplotlib\n",
        "import matplotlib.pyplot as plt"
      ],
      "metadata": {
        "id": "WjbabBhEHzOS"
      },
      "execution_count": null,
      "outputs": []
    },
    {
      "cell_type": "markdown",
      "source": [
        "## 1. Getting dataset"
      ],
      "metadata": {
        "id": "EUBgxmzYNBGS"
      }
    },
    {
      "cell_type": "code",
      "source": [
        "The dataset we'll be using"
      ],
      "metadata": {
        "id": "VWhXogr6NDpR"
      },
      "execution_count": null,
      "outputs": []
    }
  ]
}